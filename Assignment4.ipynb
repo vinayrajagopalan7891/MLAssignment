{
 "cells": [
  {
   "cell_type": "code",
   "execution_count": 17,
   "id": "236e19d7",
   "metadata": {},
   "outputs": [
    {
     "name": "stderr",
     "output_type": "stream",
     "text": [
      "Loaded gbm 2.1.8\n",
      "\n"
     ]
    },
    {
     "data": {
      "text/html": [
       "'R version 4.0.5 (2021-03-31)'"
      ],
      "text/latex": [
       "'R version 4.0.5 (2021-03-31)'"
      ],
      "text/markdown": [
       "'R version 4.0.5 (2021-03-31)'"
      ],
      "text/plain": [
       "[1] \"R version 4.0.5 (2021-03-31)\""
      ]
     },
     "metadata": {},
     "output_type": "display_data"
    }
   ],
   "source": [
    "# Set environment params\n",
    "Sys.setenv(LANG='en')  # English\n",
    "\n",
    "# Import libraries\n",
    "library(data.table)    # Data manipulate\n",
    "library(mlr)           # ML toolkit\n",
    "library(caret)         # ML toolkit\n",
    "library(ggplot2)       # Visualization\n",
    "library(pROC)          # AUC, ROC\n",
    "library(tree)          # CART model\n",
    "library(randomForest)  # Bagging and RF\n",
    "library(gbm)           # Boosting tree\n",
    "\n",
    "# Import data\n",
    "library(ISLR)      # Data from the course book\n",
    "library(MASS)      # Boston housing dataset\n",
    "library(datasets)  # US crime dataset\n",
    "\n",
    "# Resize plot\n",
    "library(repr)  # String and binary representations\n",
    "#options(repr.plot.width=4, repr.plot.height=4)\n",
    "\n",
    "R.version.string"
   ]
  },
  {
   "cell_type": "code",
   "execution_count": 7,
   "id": "8bcefe76",
   "metadata": {},
   "outputs": [
    {
     "data": {
      "image/png": "[encoded data removed]",
      "text/plain": [
       "plot without title"
      ]
     },
     "metadata": {
      "image/png": {
       "height": 420,
       "width": 420
      }
     },
     "output_type": "display_data"
    }
   ],
   "source": [
    "#Question 3\n",
    "\n",
    "p = seq(0, 1, 0.01)\n",
    "gini = p * (1 - p) * 2\n",
    "entropy = -(p * log(p) + (1 - p) * log(1 - p))\n",
    "class.err = 1 - pmax(p, 1 - p)\n",
    "matplot(p, cbind(gini, entropy, class.err), col = c(\"red\", \"green\", \"blue\"))"
   ]
  },
  {
   "cell_type": "code",
   "execution_count": 8,
   "id": "d694056a",
   "metadata": {},
   "outputs": [
    {
     "data": {
      "text/html": [
       "TRUE"
      ],
      "text/latex": [
       "TRUE"
      ],
      "text/markdown": [
       "TRUE"
      ],
      "text/plain": [
       "[1] TRUE"
      ]
     },
     "metadata": {},
     "output_type": "display_data"
    },
    {
     "data": {
      "text/html": [
       "0.45"
      ],
      "text/latex": [
       "0.45"
      ],
      "text/markdown": [
       "0.45"
      ],
      "text/plain": [
       "[1] 0.45"
      ]
     },
     "metadata": {},
     "output_type": "display_data"
    }
   ],
   "source": [
    "#Question 5\n",
    "\n",
    "p = c(0.1, 0.15, 0.2, 0.2, 0.55, 0.6, 0.6, 0.65, 0.7, 0.75)\n",
    "#Majority approach\n",
    "sum(p >= 0.5) > sum(p < 0.5)\n",
    "#Average Approach\n",
    "mean(p)"
   ]
  },
  {
   "cell_type": "code",
   "execution_count": 18,
   "id": "2dec0a80",
   "metadata": {},
   "outputs": [
    {
     "name": "stderr",
     "output_type": "stream",
     "text": [
      "The following objects are masked from Carseats (pos = 8):\n",
      "\n",
      "    Advertising, Age, CompPrice, Education, Income, Population, Price,\n",
      "    Sales, ShelveLoc, Urban, US\n",
      "\n",
      "\n"
     ]
    }
   ],
   "source": [
    "attach(Carseats)\n",
    "#Question 8\n",
    "\n",
    "#A\n",
    "train = sample(dim(Carseats)[1], dim(Carseats)[1]/2)\n",
    "Carseats.train = Carseats[train, ]\n",
    "Carseats.test = Carseats[-train, ]"
   ]
  },
  {
   "cell_type": "code",
   "execution_count": 19,
   "id": "bea1310e",
   "metadata": {},
   "outputs": [
    {
     "data": {
      "text/plain": [
       "\n",
       "Regression tree:\n",
       "tree(formula = Sales ~ ., data = Carseats.train)\n",
       "Variables actually used in tree construction:\n",
       "[1] \"ShelveLoc\"   \"Price\"       \"Age\"         \"Advertising\" \"CompPrice\"  \n",
       "[6] \"Education\"  \n",
       "Number of terminal nodes:  17 \n",
       "Residual mean deviance:  2.03 = 371.5 / 183 \n",
       "Distribution of residuals:\n",
       "    Min.  1st Qu.   Median     Mean  3rd Qu.     Max. \n",
       "-4.11000 -0.89170 -0.04892  0.00000  0.97080  4.18500 "
      ]
     },
     "metadata": {},
     "output_type": "display_data"
    }
   ],
   "source": [
    "#B\n",
    "tree.carseats = tree(Sales ~ ., data = Carseats.train)\n",
    "summary(tree.carseats)"
   ]
  },
  {
   "cell_type": "code",
   "execution_count": 20,
   "id": "f3b0a70a",
   "metadata": {},
   "outputs": [
    {
     "data": {
      "image/png": "[encoded data removed]",
      "text/plain": [
       "plot without title"
      ]
     },
     "metadata": {
      "image/png": {
       "height": 420,
       "width": 420
      }
     },
     "output_type": "display_data"
    }
   ],
   "source": [
    "#C\n",
    "plot(tree.carseats)\n",
    "text(tree.carseats, pretty = 0)"
   ]
  },
  {
   "cell_type": "code",
   "execution_count": 21,
   "id": "0cdd49ad",
   "metadata": {},
   "outputs": [
    {
     "data": {
      "text/html": [
       "4.50653469995304"
      ],
      "text/latex": [
       "4.50653469995304"
      ],
      "text/markdown": [
       "4.50653469995304"
      ],
      "text/plain": [
       "[1] 4.506535"
      ]
     },
     "metadata": {},
     "output_type": "display_data"
    }
   ],
   "source": [
    "pred.carseats = predict(tree.carseats, Carseats.test)\n",
    "mean((Carseats.test$Sales - pred.carseats)^2)"
   ]
  },
  {
   "cell_type": "code",
   "execution_count": 26,
   "id": "43c62df1",
   "metadata": {},
   "outputs": [
    {
     "data": {
      "image/png": "[encoded data removed]",
      "text/plain": [
       "plot without title"
      ]
     },
     "metadata": {
      "image/png": {
       "height": 420,
       "width": 420
      }
     },
     "output_type": "display_data"
    }
   ],
   "source": [
    "cv.carseats = cv.tree(tree.carseats, FUN = prune.tree)\n",
    "par(mfrow = c(1, 2))\n",
    "plot(cv.carseats$size, cv.carseats$dev, type = \"b\")\n",
    "plot(cv.carseats$k, cv.carseats$dev, type = \"b\")"
   ]
  },
  {
   "cell_type": "code",
   "execution_count": 27,
   "id": "4161072f",
   "metadata": {},
   "outputs": [
    {
     "data": {
      "image/png": "[encoded data removed]",
      "text/plain": [
       "plot without title"
      ]
     },
     "metadata": {
      "image/png": {
       "height": 420,
       "width": 420
      }
     },
     "output_type": "display_data"
    }
   ],
   "source": [
    "\n",
    "# Best size = 9\n",
    "pruned.carseats = prune.tree(tree.carseats, best = 9)\n",
    "par(mfrow = c(1, 1))\n",
    "plot(pruned.carseats)\n",
    "text(pruned.carseats, pretty = 0)"
   ]
  },
  {
   "cell_type": "code",
   "execution_count": 28,
   "id": "15e1a00b",
   "metadata": {},
   "outputs": [
    {
     "data": {
      "text/html": [
       "4.74250096308936"
      ],
      "text/latex": [
       "4.74250096308936"
      ],
      "text/markdown": [
       "4.74250096308936"
      ],
      "text/plain": [
       "[1] 4.742501"
      ]
     },
     "metadata": {},
     "output_type": "display_data"
    }
   ],
   "source": [
    "pred.pruned = predict(pruned.carseats, Carseats.test)\n",
    "mean((Carseats.test$Sales - pred.pruned)^2)"
   ]
  },
  {
   "cell_type": "code",
   "execution_count": 29,
   "id": "195c4171",
   "metadata": {},
   "outputs": [
    {
     "data": {
      "text/html": [
       "2.68183831052098"
      ],
      "text/latex": [
       "2.68183831052098"
      ],
      "text/markdown": [
       "2.68183831052098"
      ],
      "text/plain": [
       "[1] 2.681838"
      ]
     },
     "metadata": {},
     "output_type": "display_data"
    }
   ],
   "source": [
    "#D\n",
    "bag.carseats = randomForest(Sales ~ ., data = Carseats.train, mtry = 10, ntree = 500, \n",
    "    importance = T)\n",
    "bag.pred = predict(bag.carseats, Carseats.test)\n",
    "mean((Carseats.test$Sales - bag.pred)^2)"
   ]
  },
  {
   "cell_type": "code",
   "execution_count": 30,
   "id": "213047c3",
   "metadata": {},
   "outputs": [
    {
     "data": {
      "text/html": [
       "<table class=\"dataframe\">\n",
       "<caption>A matrix: 10 × 2 of type dbl</caption>\n",
       "<thead>\n",
       "\t<tr><th></th><th scope=col>%IncMSE</th><th scope=col>IncNodePurity</th></tr>\n",
       "</thead>\n",
       "<tbody>\n",
       "\t<tr><th scope=row>CompPrice</th><td>21.5119095</td><td>156.574976</td></tr>\n",
       "\t<tr><th scope=row>Income</th><td> 3.8102141</td><td> 74.269358</td></tr>\n",
       "\t<tr><th scope=row>Advertising</th><td>15.4499465</td><td>115.412289</td></tr>\n",
       "\t<tr><th scope=row>Population</th><td>-2.6156591</td><td> 45.562299</td></tr>\n",
       "\t<tr><th scope=row>Price</th><td>47.3389212</td><td>368.573294</td></tr>\n",
       "\t<tr><th scope=row>ShelveLoc</th><td>57.1185422</td><td>511.996576</td></tr>\n",
       "\t<tr><th scope=row>Age</th><td>13.4486055</td><td>126.219222</td></tr>\n",
       "\t<tr><th scope=row>Education</th><td> 3.5650286</td><td> 58.098664</td></tr>\n",
       "\t<tr><th scope=row>Urban</th><td> 0.1520352</td><td> 11.027442</td></tr>\n",
       "\t<tr><th scope=row>US</th><td> 0.6031547</td><td>  6.018593</td></tr>\n",
       "</tbody>\n",
       "</table>\n"
      ],
      "text/latex": [
       "A matrix: 10 × 2 of type dbl\n",
       "\\begin{tabular}{r|ll}\n",
       "  & \\%IncMSE & IncNodePurity\\\\\n",
       "\\hline\n",
       "\tCompPrice & 21.5119095 & 156.574976\\\\\n",
       "\tIncome &  3.8102141 &  74.269358\\\\\n",
       "\tAdvertising & 15.4499465 & 115.412289\\\\\n",
       "\tPopulation & -2.6156591 &  45.562299\\\\\n",
       "\tPrice & 47.3389212 & 368.573294\\\\\n",
       "\tShelveLoc & 57.1185422 & 511.996576\\\\\n",
       "\tAge & 13.4486055 & 126.219222\\\\\n",
       "\tEducation &  3.5650286 &  58.098664\\\\\n",
       "\tUrban &  0.1520352 &  11.027442\\\\\n",
       "\tUS &  0.6031547 &   6.018593\\\\\n",
       "\\end{tabular}\n"
      ],
      "text/markdown": [
       "\n",
       "A matrix: 10 × 2 of type dbl\n",
       "\n",
       "| <!--/--> | %IncMSE | IncNodePurity |\n",
       "|---|---|---|\n",
       "| CompPrice | 21.5119095 | 156.574976 |\n",
       "| Income |  3.8102141 |  74.269358 |\n",
       "| Advertising | 15.4499465 | 115.412289 |\n",
       "| Population | -2.6156591 |  45.562299 |\n",
       "| Price | 47.3389212 | 368.573294 |\n",
       "| ShelveLoc | 57.1185422 | 511.996576 |\n",
       "| Age | 13.4486055 | 126.219222 |\n",
       "| Education |  3.5650286 |  58.098664 |\n",
       "| Urban |  0.1520352 |  11.027442 |\n",
       "| US |  0.6031547 |   6.018593 |\n",
       "\n"
      ],
      "text/plain": [
       "            %IncMSE    IncNodePurity\n",
       "CompPrice   21.5119095 156.574976   \n",
       "Income       3.8102141  74.269358   \n",
       "Advertising 15.4499465 115.412289   \n",
       "Population  -2.6156591  45.562299   \n",
       "Price       47.3389212 368.573294   \n",
       "ShelveLoc   57.1185422 511.996576   \n",
       "Age         13.4486055 126.219222   \n",
       "Education    3.5650286  58.098664   \n",
       "Urban        0.1520352  11.027442   \n",
       "US           0.6031547   6.018593   "
      ]
     },
     "metadata": {},
     "output_type": "display_data"
    }
   ],
   "source": [
    "importance(bag.carseats)"
   ]
  },
  {
   "cell_type": "code",
   "execution_count": 31,
   "id": "02ec92d3",
   "metadata": {},
   "outputs": [
    {
     "data": {
      "text/html": [
       "2.92183797430095"
      ],
      "text/latex": [
       "2.92183797430095"
      ],
      "text/markdown": [
       "2.92183797430095"
      ],
      "text/plain": [
       "[1] 2.921838"
      ]
     },
     "metadata": {},
     "output_type": "display_data"
    }
   ],
   "source": [
    "#E\n",
    "rf.carseats = randomForest(Sales ~ ., data = Carseats.train, mtry = 5, ntree = 500, \n",
    "    importance = T)\n",
    "rf.pred = predict(rf.carseats, Carseats.test)\n",
    "mean((Carseats.test$Sales - rf.pred)^2)"
   ]
  },
  {
   "cell_type": "code",
   "execution_count": 32,
   "id": "47c9b2f0",
   "metadata": {},
   "outputs": [],
   "source": [
    "# Question 9\n",
    "#A\n",
    "attach(OJ)\n",
    "\n",
    "train = sample(dim(OJ)[1], 800)\n",
    "OJ.train = OJ[train, ]\n",
    "OJ.test = OJ[-train, ]"
   ]
  },
  {
   "cell_type": "code",
   "execution_count": 33,
   "id": "a1bbd14f",
   "metadata": {},
   "outputs": [
    {
     "data": {
      "text/plain": [
       "\n",
       "Classification tree:\n",
       "tree(formula = Purchase ~ ., data = OJ.train)\n",
       "Variables actually used in tree construction:\n",
       "[1] \"LoyalCH\"   \"PriceDiff\" \"PriceMM\"  \n",
       "Number of terminal nodes:  7 \n",
       "Residual mean deviance:  0.77 = 610.6 / 793 \n",
       "Misclassification error rate: 0.165 = 132 / 800 "
      ]
     },
     "metadata": {},
     "output_type": "display_data"
    }
   ],
   "source": [
    "#B\n",
    "oj.tree = tree(Purchase ~ ., data = OJ.train)\n",
    "summary(oj.tree)"
   ]
  },
  {
   "cell_type": "code",
   "execution_count": 34,
   "id": "bd20b70b",
   "metadata": {},
   "outputs": [
    {
     "data": {
      "text/plain": [
       "node), split, n, deviance, yval, (yprob)\n",
       "      * denotes terminal node\n",
       "\n",
       " 1) root 800 1063.00 CH ( 0.62000 0.38000 )  \n",
       "   2) LoyalCH < 0.5036 352  425.60 MM ( 0.29261 0.70739 )  \n",
       "     4) LoyalCH < 0.275386 164  129.30 MM ( 0.13415 0.86585 ) *\n",
       "     5) LoyalCH > 0.275386 188  257.00 MM ( 0.43085 0.56915 )  \n",
       "      10) PriceDiff < 0.05 77   81.30 MM ( 0.22078 0.77922 ) *\n",
       "      11) PriceDiff > 0.05 111  151.30 CH ( 0.57658 0.42342 ) *\n",
       "   3) LoyalCH > 0.5036 448  333.70 CH ( 0.87723 0.12277 )  \n",
       "     6) LoyalCH < 0.753545 179  201.90 CH ( 0.74860 0.25140 )  \n",
       "      12) PriceDiff < -0.165 31   40.32 MM ( 0.35484 0.64516 ) *\n",
       "      13) PriceDiff > -0.165 148  134.40 CH ( 0.83108 0.16892 )  \n",
       "        26) PriceMM < 2.04 45   57.29 CH ( 0.66667 0.33333 ) *\n",
       "        27) PriceMM > 2.04 103   65.64 CH ( 0.90291 0.09709 ) *\n",
       "     7) LoyalCH > 0.753545 269   85.47 CH ( 0.96283 0.03717 ) *"
      ]
     },
     "metadata": {},
     "output_type": "display_data"
    }
   ],
   "source": [
    "#C\n",
    "oj.tree"
   ]
  },
  {
   "cell_type": "code",
   "execution_count": 35,
   "id": "1ab6f19c",
   "metadata": {},
   "outputs": [
    {
     "data": {
      "image/png": "[encoded data removed]",
      "text/plain": [
       "plot without title"
      ]
     },
     "metadata": {
      "image/png": {
       "height": 420,
       "width": 420
      }
     },
     "output_type": "display_data"
    }
   ],
   "source": [
    "#D\n",
    "plot(oj.tree)\n",
    "text(oj.tree, pretty = 0)"
   ]
  },
  {
   "cell_type": "code",
   "execution_count": 36,
   "id": "3a35efbf",
   "metadata": {},
   "outputs": [
    {
     "data": {
      "text/plain": [
       "    oj.pred\n",
       "      CH  MM\n",
       "  CH 146  11\n",
       "  MM  32  81"
      ]
     },
     "metadata": {},
     "output_type": "display_data"
    }
   ],
   "source": [
    "#E\n",
    "oj.pred = predict(oj.tree, OJ.test, type = \"class\")\n",
    "table(OJ.test$Purchase, oj.pred)"
   ]
  },
  {
   "cell_type": "code",
   "execution_count": 37,
   "id": "a61e22f5",
   "metadata": {},
   "outputs": [],
   "source": [
    "#F\n",
    "cv.oj = cv.tree(oj.tree, FUN = prune.tree)"
   ]
  },
  {
   "cell_type": "code",
   "execution_count": 38,
   "id": "a537f72c",
   "metadata": {},
   "outputs": [
    {
     "data": {
      "image/png": "[encoded data removed]",
      "text/plain": [
       "plot without title"
      ]
     },
     "metadata": {
      "image/png": {
       "height": 420,
       "width": 420
      }
     },
     "output_type": "display_data"
    }
   ],
   "source": [
    "#G\n",
    "plot(cv.oj$size, cv.oj$dev, type = \"b\", xlab = \"Tree Size\", ylab = \"Deviance\")"
   ]
  },
  {
   "cell_type": "code",
   "execution_count": null,
   "id": "3fdc359e",
   "metadata": {},
   "outputs": [],
   "source": [
    "#H\n",
    "Size of 6 gives lowest cross-validation error."
   ]
  },
  {
   "cell_type": "code",
   "execution_count": 39,
   "id": "519ab391",
   "metadata": {},
   "outputs": [],
   "source": [
    "#I\n",
    "oj.pruned = prune.tree(oj.tree, best = 6)"
   ]
  },
  {
   "cell_type": "code",
   "execution_count": 40,
   "id": "341976b6",
   "metadata": {},
   "outputs": [
    {
     "data": {
      "text/plain": [
       "\n",
       "Classification tree:\n",
       "snip.tree(tree = oj.tree, nodes = 13L)\n",
       "Variables actually used in tree construction:\n",
       "[1] \"LoyalCH\"   \"PriceDiff\"\n",
       "Number of terminal nodes:  6 \n",
       "Residual mean deviance:  0.7835 = 622.1 / 794 \n",
       "Misclassification error rate: 0.165 = 132 / 800 "
      ]
     },
     "metadata": {},
     "output_type": "display_data"
    }
   ],
   "source": [
    "#J\n",
    "summary(oj.pruned)"
   ]
  },
  {
   "cell_type": "code",
   "execution_count": 41,
   "id": "cf3ed54b",
   "metadata": {},
   "outputs": [
    {
     "data": {
      "text/html": [
       "0.159259259259259"
      ],
      "text/latex": [
       "0.159259259259259"
      ],
      "text/markdown": [
       "0.159259259259259"
      ],
      "text/plain": [
       "[1] 0.1592593"
      ]
     },
     "metadata": {},
     "output_type": "display_data"
    }
   ],
   "source": [
    "#K\n",
    "pred.unpruned = predict(oj.tree, OJ.test, type = \"class\")\n",
    "misclass.unpruned = sum(OJ.test$Purchase != pred.unpruned)\n",
    "misclass.unpruned/length(pred.unpruned)"
   ]
  },
  {
   "cell_type": "code",
   "execution_count": 42,
   "id": "892230b6",
   "metadata": {},
   "outputs": [
    {
     "data": {
      "text/html": [
       "0.159259259259259"
      ],
      "text/latex": [
       "0.159259259259259"
      ],
      "text/markdown": [
       "0.159259259259259"
      ],
      "text/plain": [
       "[1] 0.1592593"
      ]
     },
     "metadata": {},
     "output_type": "display_data"
    }
   ],
   "source": [
    "pred.pruned = predict(oj.pruned, OJ.test, type = \"class\")\n",
    "misclass.pruned = sum(OJ.test$Purchase != pred.pruned)\n",
    "misclass.pruned/length(pred.pruned)"
   ]
  },
  {
   "cell_type": "code",
   "execution_count": null,
   "id": "aafbbb1c",
   "metadata": {},
   "outputs": [],
   "source": []
  }
 ],
 "metadata": {
  "kernelspec": {
   "display_name": "R",
   "language": "R",
   "name": "ir"
  },
  "language_info": {
   "codemirror_mode": "r",
   "file_extension": ".r",
   "mimetype": "text/x-r-source",
   "name": "R",
   "pygments_lexer": "r",
   "version": "4.0.5"
  }
 },
 "nbformat": 4,
 "nbformat_minor": 5
}
